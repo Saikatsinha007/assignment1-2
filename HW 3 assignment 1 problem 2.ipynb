{
 "cells": [
  {
   "cell_type": "code",
   "execution_count": 21,
   "id": "2e09089b-57b5-4bf8-82e4-d05b1097f453",
   "metadata": {},
   "outputs": [
    {
     "name": "stdout",
     "output_type": "stream",
     "text": [
      "            Athlete  Age        Country  Year Closing Ceremony Date  \\\n",
      "0    Michael Phelps   23  United States  2008            2008-08-24   \n",
      "1    Michael Phelps   19  United States  2004            2004-08-29   \n",
      "2    Michael Phelps   27  United States  2012            2012-08-12   \n",
      "3  Natalie Coughlin   25  United States  2008            2008-08-24   \n",
      "4     Aleksey Nemov   24         Russia  2000            2000-10-01   \n",
      "\n",
      "        Sport  Gold Medals  Silver Medals  Bronze Medals  Total Medals  \n",
      "0    Swimming            8              0              0             8  \n",
      "1    Swimming            6              0              2             8  \n",
      "2    Swimming            4              2              0             6  \n",
      "3    Swimming            1              2              3             6  \n",
      "4  Gymnastics            2              1              3             6  \n"
     ]
    }
   ],
   "source": [
    "import pandas as pd\n",
    "file_path = r\"C:\\Users\\EJ312WS\\Downloads\\2_Normal (2).mat\\prb2.xlsx\"\n",
    "data = pd.read_excel(file_path)\n",
    "\n",
    "\n",
    "print(data.head())"
   ]
  },
  {
   "cell_type": "code",
   "execution_count": 22,
   "id": "ce1f20c0-6100-4712-99d0-cb48613ccb00",
   "metadata": {},
   "outputs": [
    {
     "name": "stdout",
     "output_type": "stream",
     "text": [
      "Sport\n",
      "Alpine Skiing                 12\n",
      "Archery                       14\n",
      "Athletics                     55\n",
      "Badminton                      6\n",
      "Biathlon                      31\n",
      "Bobsleigh                      6\n",
      "Canoeing                      34\n",
      "Cross Country Skiing          35\n",
      "Cycling                       40\n",
      "Diving                        27\n",
      "Equestrian                    21\n",
      "Fencing                       16\n",
      "Gymnastics                    56\n",
      "Nordic Combined                6\n",
      "Rowing                        10\n",
      "Shooting                       9\n",
      "Short-Track Speed Skating     29\n",
      "Ski Jumping                    6\n",
      "Speed Skating                 23\n",
      "Swimming                     185\n",
      "Synchronized Swimming         16\n",
      "Table Tennis                  20\n",
      "Taekwondo                      1\n",
      "Tennis                        10\n",
      "Trampoline                     0\n",
      "Triathlon                      1\n",
      "Waterpolo                    102\n",
      "Weightlifting                 60\n",
      "Wrestling                     70\n",
      "Name: Gold Medals, dtype: int64\n"
     ]
    }
   ],
   "source": [
    "\n",
    "gold_medals_per_sport = data.groupby('Sport')['Gold Medals'].sum()\n",
    "\n",
    "\n",
    "print(gold_medals_per_sport)"
   ]
  },
  {
   "cell_type": "markdown",
   "id": "88c4ca7c-1446-4c65-849a-48db4ee55003",
   "metadata": {},
   "source": [
    "# Calculate the total number of medals for each country across all years"
   ]
  },
  {
   "cell_type": "code",
   "execution_count": 23,
   "id": "69787fc6-cf0d-4594-8094-49e447bcc712",
   "metadata": {},
   "outputs": [
    {
     "data": {
      "text/plain": [
       "Country\n",
       "Armenia            9\n",
       "Australia        197\n",
       "Azerbaijan        14\n",
       "Bahamas            2\n",
       "Belarus           24\n",
       "                ... \n",
       "United States    416\n",
       "Uzbekistan         8\n",
       "Venezuela          1\n",
       "Vietnam            1\n",
       "Zimbabwe           7\n",
       "Name: Total Medals, Length: 73, dtype: int64"
      ]
     },
     "execution_count": 23,
     "metadata": {},
     "output_type": "execute_result"
    }
   ],
   "source": [
    "\n",
    "total_medals_per_country = data.groupby('Country')['Total Medals'].sum()\n",
    "\n",
    "\n",
    "total_medals_per_country"
   ]
  },
  {
   "cell_type": "code",
   "execution_count": 24,
   "id": "cc166ec1-ae45-4fe8-9005-e59a6ccb027b",
   "metadata": {},
   "outputs": [],
   "source": [
    " athlete_medals = data.groupby('Athlete')[['Gold Medals', 'Silver Medals']].sum()"
   ]
  },
  {
   "cell_type": "code",
   "execution_count": 25,
   "id": "307b7f61-d54f-40dc-8192-e5c814cd9f1e",
   "metadata": {},
   "outputs": [
    {
     "data": {
      "text/html": [
       "<div>\n",
       "<style scoped>\n",
       "    .dataframe tbody tr th:only-of-type {\n",
       "        vertical-align: middle;\n",
       "    }\n",
       "\n",
       "    .dataframe tbody tr th {\n",
       "        vertical-align: top;\n",
       "    }\n",
       "\n",
       "    .dataframe thead th {\n",
       "        text-align: right;\n",
       "    }\n",
       "</style>\n",
       "<table border=\"1\" class=\"dataframe\">\n",
       "  <thead>\n",
       "    <tr style=\"text-align: right;\">\n",
       "      <th></th>\n",
       "      <th>Gold Medals</th>\n",
       "      <th>Silver Medals</th>\n",
       "    </tr>\n",
       "    <tr>\n",
       "      <th>Athlete</th>\n",
       "      <th></th>\n",
       "      <th></th>\n",
       "    </tr>\n",
       "  </thead>\n",
       "  <tbody>\n",
       "    <tr>\n",
       "      <th>Aaron Peirsol</th>\n",
       "      <td>5</td>\n",
       "      <td>1</td>\n",
       "    </tr>\n",
       "    <tr>\n",
       "      <th>Adam Malysz</th>\n",
       "      <td>0</td>\n",
       "      <td>3</td>\n",
       "    </tr>\n",
       "    <tr>\n",
       "      <th>Adam Pine</th>\n",
       "      <td>1</td>\n",
       "      <td>1</td>\n",
       "    </tr>\n",
       "    <tr>\n",
       "      <th>Adam Saytiyev</th>\n",
       "      <td>1</td>\n",
       "      <td>0</td>\n",
       "    </tr>\n",
       "    <tr>\n",
       "      <th>Adam Van Koeverden</th>\n",
       "      <td>1</td>\n",
       "      <td>0</td>\n",
       "    </tr>\n",
       "    <tr>\n",
       "      <th>...</th>\n",
       "      <td>...</td>\n",
       "      <td>...</td>\n",
       "    </tr>\n",
       "    <tr>\n",
       "      <th>Zou Kai</th>\n",
       "      <td>5</td>\n",
       "      <td>0</td>\n",
       "    </tr>\n",
       "    <tr>\n",
       "      <th>Zsolt Varga</th>\n",
       "      <td>1</td>\n",
       "      <td>0</td>\n",
       "    </tr>\n",
       "    <tr>\n",
       "      <th>Zulfiya Chinshanlo</th>\n",
       "      <td>1</td>\n",
       "      <td>0</td>\n",
       "    </tr>\n",
       "    <tr>\n",
       "      <th>Ádám Steinmetz</th>\n",
       "      <td>1</td>\n",
       "      <td>0</td>\n",
       "    </tr>\n",
       "    <tr>\n",
       "      <th>Živko Gocic</th>\n",
       "      <td>0</td>\n",
       "      <td>0</td>\n",
       "    </tr>\n",
       "  </tbody>\n",
       "</table>\n",
       "<p>1178 rows × 2 columns</p>\n",
       "</div>"
      ],
      "text/plain": [
       "                    Gold Medals  Silver Medals\n",
       "Athlete                                       \n",
       "Aaron Peirsol                 5              1\n",
       "Adam Malysz                   0              3\n",
       "Adam Pine                     1              1\n",
       "Adam Saytiyev                 1              0\n",
       "Adam Van Koeverden            1              0\n",
       "...                         ...            ...\n",
       "Zou Kai                       5              0\n",
       "Zsolt Varga                   1              0\n",
       "Zulfiya Chinshanlo            1              0\n",
       "Ádám Steinmetz                1              0\n",
       "Živko Gocic                   0              0\n",
       "\n",
       "[1178 rows x 2 columns]"
      ]
     },
     "execution_count": 25,
     "metadata": {},
     "output_type": "execute_result"
    }
   ],
   "source": [
    "athlete_medals "
   ]
  },
  {
   "cell_type": "code",
   "execution_count": 28,
   "id": "593a12a7-c12f-4e30-8781-0b86ed79c10b",
   "metadata": {},
   "outputs": [
    {
     "name": "stdout",
     "output_type": "stream",
     "text": [
      "Total number of gold medals: Gold Medals    901\n",
      "dtype: int64\n"
     ]
    }
   ],
   "source": [
    "athlete_medals = data.groupby('Athlete')[['Gold Medals']].sum()\n",
    "\n",
    "total_gold_medals = athlete_medals.sum()\n",
    "print(\"Total number of gold medals:\", total_gold_medals)\n"
   ]
  },
  {
   "cell_type": "code",
   "execution_count": 30,
   "id": "04031877-fbef-4cbd-b58c-c7aa82e21a28",
   "metadata": {},
   "outputs": [
    {
     "name": "stdout",
     "output_type": "stream",
     "text": [
      "Total number of silver medals: Silver Medals    754\n",
      "dtype: int64\n"
     ]
    }
   ],
   "source": [
    "athlete_medals = data.groupby('Athlete')[['Silver Medals']].sum()\n",
    "\n",
    "total_silver_medals = athlete_medals.sum()\n",
    "print(\"Total number of silver medals:\", total_silver_medals)\n"
   ]
  },
  {
   "cell_type": "markdown",
   "id": "68ef78f2-22dc-498b-825b-2de3cab8a2c3",
   "metadata": {},
   "source": [
    "## gold and silver total number of medals"
   ]
  },
  {
   "cell_type": "code",
   "execution_count": 33,
   "id": "9ef39307-30bf-4870-b56a-d507254c2a7a",
   "metadata": {},
   "outputs": [
    {
     "name": "stdout",
     "output_type": "stream",
     "text": [
      "Total number of gold and  silver medals: Silver Medals    1508\n",
      "dtype: int64\n"
     ]
    }
   ],
   "source": [
    "total_gold_silver_medals = total_silver_medals + total_gold_medals\n",
    "print(\"Total number of gold and  silver medals:\", total_gold_silver_medals)"
   ]
  },
  {
   "cell_type": "markdown",
   "id": "b3f7a230-b1e8-4a74-b3e5-2b3eed98514f",
   "metadata": {},
   "source": [
    "# Total silver and bronze medals according to country, sports, year"
   ]
  },
  {
   "cell_type": "code",
   "execution_count": 47,
   "id": "06a569d9-fdff-4e9c-aa16-3a769eaf9991",
   "metadata": {},
   "outputs": [
    {
     "name": "stdout",
     "output_type": "stream",
     "text": [
      "                               Silver Medals  Bronze Medals  Total_Medals\n",
      "Country    Sport         Year                                            \n",
      "Armenia    Weightlifting 2000              0              1             1\n",
      "                         2008              0              3             3\n",
      "                         2012              0              1             1\n",
      "           Wrestling     2008              0              2             2\n",
      "                         2012              1              1             2\n",
      "...                                      ...            ...           ...\n",
      "Uzbekistan Wrestling     2012              0              1             1\n",
      "Venezuela  Weightlifting 2004              0              1             1\n",
      "Vietnam    Weightlifting 2008              1              0             1\n",
      "Zimbabwe   Swimming      2004              1              1             2\n",
      "                         2008              3              0             3\n",
      "\n",
      "[525 rows x 3 columns]\n"
     ]
    }
   ],
   "source": [
    "total_medals = data.groupby(['Country', 'Sport', 'Year'])[['Silver Medals', 'Bronze Medals']].sum()\n",
    "\n",
    "\n",
    "total_medals = total_medals.assign(Total_Medals=total_medals.sum(axis=1))\n",
    "\n",
    "\n",
    "print(total_medals)\n"
   ]
  },
  {
   "cell_type": "code",
   "execution_count": 49,
   "id": "7165786c-cab8-43c5-85c9-817635014fbb",
   "metadata": {},
   "outputs": [
    {
     "data": {
      "text/html": [
       "<div>\n",
       "<style scoped>\n",
       "    .dataframe tbody tr th:only-of-type {\n",
       "        vertical-align: middle;\n",
       "    }\n",
       "\n",
       "    .dataframe tbody tr th {\n",
       "        vertical-align: top;\n",
       "    }\n",
       "\n",
       "    .dataframe thead th {\n",
       "        text-align: right;\n",
       "    }\n",
       "</style>\n",
       "<table border=\"1\" class=\"dataframe\">\n",
       "  <thead>\n",
       "    <tr style=\"text-align: right;\">\n",
       "      <th></th>\n",
       "      <th></th>\n",
       "      <th></th>\n",
       "      <th>Silver Medals</th>\n",
       "      <th>Bronze Medals</th>\n",
       "      <th>Total_Medals</th>\n",
       "    </tr>\n",
       "    <tr>\n",
       "      <th>Country</th>\n",
       "      <th>Sport</th>\n",
       "      <th>Year</th>\n",
       "      <th></th>\n",
       "      <th></th>\n",
       "      <th></th>\n",
       "    </tr>\n",
       "  </thead>\n",
       "  <tbody>\n",
       "    <tr>\n",
       "      <th rowspan=\"5\" valign=\"top\">Armenia</th>\n",
       "      <th rowspan=\"3\" valign=\"top\">Weightlifting</th>\n",
       "      <th>2000</th>\n",
       "      <td>0</td>\n",
       "      <td>1</td>\n",
       "      <td>1</td>\n",
       "    </tr>\n",
       "    <tr>\n",
       "      <th>2008</th>\n",
       "      <td>0</td>\n",
       "      <td>3</td>\n",
       "      <td>3</td>\n",
       "    </tr>\n",
       "    <tr>\n",
       "      <th>2012</th>\n",
       "      <td>0</td>\n",
       "      <td>1</td>\n",
       "      <td>1</td>\n",
       "    </tr>\n",
       "    <tr>\n",
       "      <th rowspan=\"2\" valign=\"top\">Wrestling</th>\n",
       "      <th>2008</th>\n",
       "      <td>0</td>\n",
       "      <td>2</td>\n",
       "      <td>2</td>\n",
       "    </tr>\n",
       "    <tr>\n",
       "      <th>2012</th>\n",
       "      <td>1</td>\n",
       "      <td>1</td>\n",
       "      <td>2</td>\n",
       "    </tr>\n",
       "    <tr>\n",
       "      <th>...</th>\n",
       "      <th>...</th>\n",
       "      <th>...</th>\n",
       "      <td>...</td>\n",
       "      <td>...</td>\n",
       "      <td>...</td>\n",
       "    </tr>\n",
       "    <tr>\n",
       "      <th>Uzbekistan</th>\n",
       "      <th>Wrestling</th>\n",
       "      <th>2012</th>\n",
       "      <td>0</td>\n",
       "      <td>1</td>\n",
       "      <td>1</td>\n",
       "    </tr>\n",
       "    <tr>\n",
       "      <th>Venezuela</th>\n",
       "      <th>Weightlifting</th>\n",
       "      <th>2004</th>\n",
       "      <td>0</td>\n",
       "      <td>1</td>\n",
       "      <td>1</td>\n",
       "    </tr>\n",
       "    <tr>\n",
       "      <th>Vietnam</th>\n",
       "      <th>Weightlifting</th>\n",
       "      <th>2008</th>\n",
       "      <td>1</td>\n",
       "      <td>0</td>\n",
       "      <td>1</td>\n",
       "    </tr>\n",
       "    <tr>\n",
       "      <th rowspan=\"2\" valign=\"top\">Zimbabwe</th>\n",
       "      <th rowspan=\"2\" valign=\"top\">Swimming</th>\n",
       "      <th>2004</th>\n",
       "      <td>1</td>\n",
       "      <td>1</td>\n",
       "      <td>2</td>\n",
       "    </tr>\n",
       "    <tr>\n",
       "      <th>2008</th>\n",
       "      <td>3</td>\n",
       "      <td>0</td>\n",
       "      <td>3</td>\n",
       "    </tr>\n",
       "  </tbody>\n",
       "</table>\n",
       "<p>525 rows × 3 columns</p>\n",
       "</div>"
      ],
      "text/plain": [
       "                               Silver Medals  Bronze Medals  Total_Medals\n",
       "Country    Sport         Year                                            \n",
       "Armenia    Weightlifting 2000              0              1             1\n",
       "                         2008              0              3             3\n",
       "                         2012              0              1             1\n",
       "           Wrestling     2008              0              2             2\n",
       "                         2012              1              1             2\n",
       "...                                      ...            ...           ...\n",
       "Uzbekistan Wrestling     2012              0              1             1\n",
       "Venezuela  Weightlifting 2004              0              1             1\n",
       "Vietnam    Weightlifting 2008              1              0             1\n",
       "Zimbabwe   Swimming      2004              1              1             2\n",
       "                         2008              3              0             3\n",
       "\n",
       "[525 rows x 3 columns]"
      ]
     },
     "execution_count": 49,
     "metadata": {},
     "output_type": "execute_result"
    }
   ],
   "source": [
    "total_medals"
   ]
  },
  {
   "cell_type": "markdown",
   "id": "e89d1cfa-accd-4a3a-bb1f-52b1dadf5f39",
   "metadata": {},
   "source": [
    "# CHINA --> silver and bronze medals according to country, year"
   ]
  },
  {
   "cell_type": "code",
   "execution_count": 53,
   "id": "ac988d8c-1e37-4d41-b9e4-1065be13851a",
   "metadata": {},
   "outputs": [
    {
     "data": {
      "text/html": [
       "<div>\n",
       "<style scoped>\n",
       "    .dataframe tbody tr th:only-of-type {\n",
       "        vertical-align: middle;\n",
       "    }\n",
       "\n",
       "    .dataframe tbody tr th {\n",
       "        vertical-align: top;\n",
       "    }\n",
       "\n",
       "    .dataframe thead th {\n",
       "        text-align: right;\n",
       "    }\n",
       "</style>\n",
       "<table border=\"1\" class=\"dataframe\">\n",
       "  <thead>\n",
       "    <tr style=\"text-align: right;\">\n",
       "      <th></th>\n",
       "      <th>Silver Medals</th>\n",
       "      <th>Bronze Medals</th>\n",
       "    </tr>\n",
       "    <tr>\n",
       "      <th>Year</th>\n",
       "      <th></th>\n",
       "      <th></th>\n",
       "    </tr>\n",
       "  </thead>\n",
       "  <tbody>\n",
       "    <tr>\n",
       "      <th>2000</th>\n",
       "      <td>13</td>\n",
       "      <td>5</td>\n",
       "    </tr>\n",
       "    <tr>\n",
       "      <th>2002</th>\n",
       "      <td>4</td>\n",
       "      <td>3</td>\n",
       "    </tr>\n",
       "    <tr>\n",
       "      <th>2004</th>\n",
       "      <td>6</td>\n",
       "      <td>1</td>\n",
       "    </tr>\n",
       "    <tr>\n",
       "      <th>2006</th>\n",
       "      <td>1</td>\n",
       "      <td>1</td>\n",
       "    </tr>\n",
       "    <tr>\n",
       "      <th>2008</th>\n",
       "      <td>8</td>\n",
       "      <td>12</td>\n",
       "    </tr>\n",
       "    <tr>\n",
       "      <th>2010</th>\n",
       "      <td>0</td>\n",
       "      <td>0</td>\n",
       "    </tr>\n",
       "    <tr>\n",
       "      <th>2012</th>\n",
       "      <td>13</td>\n",
       "      <td>6</td>\n",
       "    </tr>\n",
       "  </tbody>\n",
       "</table>\n",
       "</div>"
      ],
      "text/plain": [
       "      Silver Medals  Bronze Medals\n",
       "Year                              \n",
       "2000             13              5\n",
       "2002              4              3\n",
       "2004              6              1\n",
       "2006              1              1\n",
       "2008              8             12\n",
       "2010              0              0\n",
       "2012             13              6"
      ]
     },
     "execution_count": 53,
     "metadata": {},
     "output_type": "execute_result"
    }
   ],
   "source": [
    "china_medals = data[data['Country'] == 'China'].groupby('Year')[['Silver Medals', 'Bronze Medals']].sum()\n",
    "china_medals"
   ]
  },
  {
   "cell_type": "markdown",
   "id": "9e348035-c957-4086-9f0b-7c129a1cca2c",
   "metadata": {},
   "source": [
    "# Total number of the Bronze Medals in Swimming"
   ]
  },
  {
   "cell_type": "code",
   "execution_count": 10,
   "id": "91bf9a11-7037-4d8a-897f-dba0f2252a5d",
   "metadata": {},
   "outputs": [
    {
     "data": {
      "text/plain": [
       "106"
      ]
     },
     "execution_count": 10,
     "metadata": {},
     "output_type": "execute_result"
    }
   ],
   "source": [
    "\n",
    "total_bronze_swimming = data[data['Sport'] == 'Swimming']['Bronze Medals'].sum()\n",
    "total_bronze_swimming"
   ]
  },
  {
   "cell_type": "code",
   "execution_count": null,
   "id": "9e52a939-1e82-4f3d-a9c6-956ba90f71d6",
   "metadata": {},
   "outputs": [],
   "source": []
  }
 ],
 "metadata": {
  "kernelspec": {
   "display_name": "Python 3 (ipykernel)",
   "language": "python",
   "name": "python3"
  },
  "language_info": {
   "codemirror_mode": {
    "name": "ipython",
    "version": 3
   },
   "file_extension": ".py",
   "mimetype": "text/x-python",
   "name": "python",
   "nbconvert_exporter": "python",
   "pygments_lexer": "ipython3",
   "version": "3.11.7"
  }
 },
 "nbformat": 4,
 "nbformat_minor": 5
}
