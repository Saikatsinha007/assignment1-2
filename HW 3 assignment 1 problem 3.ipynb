{
 "cells": [
  {
   "cell_type": "code",
   "execution_count": 2,
   "id": "9b769fee-c34a-4025-bc20-2ed037604786",
   "metadata": {},
   "outputs": [],
   "source": [
    "import pandas as pd"
   ]
  },
  {
   "cell_type": "code",
   "execution_count": 3,
   "id": "8ed32d2b-8a97-4ca3-b588-c4200bade6ec",
   "metadata": {},
   "outputs": [],
   "source": [
    "df1 = pd.read_excel(r\"C:\\Users\\EJ312WS\\Downloads\\2_Normal (2).mat\\india1.xlsx\")"
   ]
  },
  {
   "cell_type": "code",
   "execution_count": 4,
   "id": "ca2cae3f-aa41-4974-9f60-ee51f4fe343e",
   "metadata": {},
   "outputs": [
    {
     "data": {
      "text/html": [
       "<div>\n",
       "<style scoped>\n",
       "    .dataframe tbody tr th:only-of-type {\n",
       "        vertical-align: middle;\n",
       "    }\n",
       "\n",
       "    .dataframe tbody tr th {\n",
       "        vertical-align: top;\n",
       "    }\n",
       "\n",
       "    .dataframe thead th {\n",
       "        text-align: right;\n",
       "    }\n",
       "</style>\n",
       "<table border=\"1\" class=\"dataframe\">\n",
       "  <thead>\n",
       "    <tr style=\"text-align: right;\">\n",
       "      <th></th>\n",
       "      <th>India</th>\n",
       "      <th>IT</th>\n",
       "      <th>Sales</th>\n",
       "      <th>Consulting</th>\n",
       "      <th>Marketing</th>\n",
       "      <th>Analytics</th>\n",
       "      <th>HR</th>\n",
       "    </tr>\n",
       "  </thead>\n",
       "  <tbody>\n",
       "    <tr>\n",
       "      <th>0</th>\n",
       "      <td>2019</td>\n",
       "      <td>25794</td>\n",
       "      <td>42521</td>\n",
       "      <td>34545</td>\n",
       "      <td>33205</td>\n",
       "      <td>57094</td>\n",
       "      <td>62421</td>\n",
       "    </tr>\n",
       "    <tr>\n",
       "      <th>1</th>\n",
       "      <td>2020</td>\n",
       "      <td>34624</td>\n",
       "      <td>54975</td>\n",
       "      <td>41334</td>\n",
       "      <td>20622</td>\n",
       "      <td>54163</td>\n",
       "      <td>52061</td>\n",
       "    </tr>\n",
       "    <tr>\n",
       "      <th>2</th>\n",
       "      <td>2021</td>\n",
       "      <td>53689</td>\n",
       "      <td>56324</td>\n",
       "      <td>35731</td>\n",
       "      <td>57272</td>\n",
       "      <td>48754</td>\n",
       "      <td>25300</td>\n",
       "    </tr>\n",
       "    <tr>\n",
       "      <th>3</th>\n",
       "      <td>2022</td>\n",
       "      <td>40946</td>\n",
       "      <td>55695</td>\n",
       "      <td>23132</td>\n",
       "      <td>33509</td>\n",
       "      <td>60307</td>\n",
       "      <td>43425</td>\n",
       "    </tr>\n",
       "  </tbody>\n",
       "</table>\n",
       "</div>"
      ],
      "text/plain": [
       "   India    IT   Sales   Consulting  Marketing  Analytics      HR\n",
       "0   2019  25794   42521       34545      33205       57094  62421\n",
       "1   2020  34624   54975       41334      20622       54163  52061\n",
       "2   2021  53689   56324       35731      57272       48754  25300\n",
       "3   2022  40946   55695       23132      33509       60307  43425"
      ]
     },
     "execution_count": 4,
     "metadata": {},
     "output_type": "execute_result"
    }
   ],
   "source": [
    "df1"
   ]
  },
  {
   "cell_type": "code",
   "execution_count": 5,
   "id": "4f61dde6-368b-4e86-bf01-e2644824e835",
   "metadata": {},
   "outputs": [],
   "source": [
    "df2 = pd.read_excel(r\"C:\\Users\\EJ312WS\\Downloads\\2_Normal (2).mat\\Aus.xlsx\")"
   ]
  },
  {
   "cell_type": "code",
   "execution_count": 6,
   "id": "e800fc10-0d3a-4270-b4dd-fa34fae7a868",
   "metadata": {},
   "outputs": [
    {
     "data": {
      "text/html": [
       "<div>\n",
       "<style scoped>\n",
       "    .dataframe tbody tr th:only-of-type {\n",
       "        vertical-align: middle;\n",
       "    }\n",
       "\n",
       "    .dataframe tbody tr th {\n",
       "        vertical-align: top;\n",
       "    }\n",
       "\n",
       "    .dataframe thead th {\n",
       "        text-align: right;\n",
       "    }\n",
       "</style>\n",
       "<table border=\"1\" class=\"dataframe\">\n",
       "  <thead>\n",
       "    <tr style=\"text-align: right;\">\n",
       "      <th></th>\n",
       "      <th>Australia</th>\n",
       "      <th>Sales</th>\n",
       "      <th>Consulting</th>\n",
       "      <th>Marketing</th>\n",
       "      <th>IT</th>\n",
       "      <th>HR</th>\n",
       "      <th>Analytics</th>\n",
       "    </tr>\n",
       "  </thead>\n",
       "  <tbody>\n",
       "    <tr>\n",
       "      <th>0</th>\n",
       "      <td>2019</td>\n",
       "      <td>50531</td>\n",
       "      <td>44947</td>\n",
       "      <td>44608</td>\n",
       "      <td>44560</td>\n",
       "      <td>50166</td>\n",
       "      <td>48602</td>\n",
       "    </tr>\n",
       "    <tr>\n",
       "      <th>1</th>\n",
       "      <td>2020</td>\n",
       "      <td>43852</td>\n",
       "      <td>52536</td>\n",
       "      <td>42581</td>\n",
       "      <td>43176</td>\n",
       "      <td>52295</td>\n",
       "      <td>49718</td>\n",
       "    </tr>\n",
       "    <tr>\n",
       "      <th>2</th>\n",
       "      <td>2021</td>\n",
       "      <td>43561</td>\n",
       "      <td>53553</td>\n",
       "      <td>45424</td>\n",
       "      <td>47747</td>\n",
       "      <td>50556</td>\n",
       "      <td>46786</td>\n",
       "    </tr>\n",
       "    <tr>\n",
       "      <th>3</th>\n",
       "      <td>2022</td>\n",
       "      <td>51259</td>\n",
       "      <td>52231</td>\n",
       "      <td>41612</td>\n",
       "      <td>53139</td>\n",
       "      <td>47280</td>\n",
       "      <td>52262</td>\n",
       "    </tr>\n",
       "  </tbody>\n",
       "</table>\n",
       "</div>"
      ],
      "text/plain": [
       "   Australia  Sales   Consulting  Marketing     IT     HR  Analytics \n",
       "0       2019   50531       44947      44608  44560  50166       48602\n",
       "1       2020   43852       52536      42581  43176  52295       49718\n",
       "2       2021   43561       53553      45424  47747  50556       46786\n",
       "3       2022   51259       52231      41612  53139  47280       52262"
      ]
     },
     "execution_count": 6,
     "metadata": {},
     "output_type": "execute_result"
    }
   ],
   "source": [
    "df2"
   ]
  },
  {
   "cell_type": "code",
   "execution_count": 7,
   "id": "3de36c38-e0f0-4556-a1aa-29be27a2bf12",
   "metadata": {},
   "outputs": [],
   "source": [
    "df3 = pd.read_excel(r\"C:\\Users\\EJ312WS\\Downloads\\2_Normal (2).mat\\US.xlsx\")"
   ]
  },
  {
   "cell_type": "code",
   "execution_count": 8,
   "id": "bf320efe-1025-4fb0-aef6-1c17b31fd0d7",
   "metadata": {},
   "outputs": [
    {
     "data": {
      "text/html": [
       "<div>\n",
       "<style scoped>\n",
       "    .dataframe tbody tr th:only-of-type {\n",
       "        vertical-align: middle;\n",
       "    }\n",
       "\n",
       "    .dataframe tbody tr th {\n",
       "        vertical-align: top;\n",
       "    }\n",
       "\n",
       "    .dataframe thead th {\n",
       "        text-align: right;\n",
       "    }\n",
       "</style>\n",
       "<table border=\"1\" class=\"dataframe\">\n",
       "  <thead>\n",
       "    <tr style=\"text-align: right;\">\n",
       "      <th></th>\n",
       "      <th>U.S.</th>\n",
       "      <th>Analytics</th>\n",
       "      <th>HR</th>\n",
       "      <th>Sales</th>\n",
       "      <th>Consulting</th>\n",
       "      <th>IT</th>\n",
       "      <th>Marketing</th>\n",
       "    </tr>\n",
       "  </thead>\n",
       "  <tbody>\n",
       "    <tr>\n",
       "      <th>0</th>\n",
       "      <td>2019</td>\n",
       "      <td>60248</td>\n",
       "      <td>38258</td>\n",
       "      <td>42831</td>\n",
       "      <td>44951</td>\n",
       "      <td>52595</td>\n",
       "      <td>37172</td>\n",
       "    </tr>\n",
       "    <tr>\n",
       "      <th>1</th>\n",
       "      <td>2020</td>\n",
       "      <td>60450</td>\n",
       "      <td>27917</td>\n",
       "      <td>57307</td>\n",
       "      <td>47618</td>\n",
       "      <td>40532</td>\n",
       "      <td>47807</td>\n",
       "    </tr>\n",
       "    <tr>\n",
       "      <th>2</th>\n",
       "      <td>2021</td>\n",
       "      <td>27556</td>\n",
       "      <td>46353</td>\n",
       "      <td>62251</td>\n",
       "      <td>32065</td>\n",
       "      <td>26254</td>\n",
       "      <td>45267</td>\n",
       "    </tr>\n",
       "    <tr>\n",
       "      <th>3</th>\n",
       "      <td>2022</td>\n",
       "      <td>27217</td>\n",
       "      <td>40270</td>\n",
       "      <td>51181</td>\n",
       "      <td>54078</td>\n",
       "      <td>37063</td>\n",
       "      <td>36649</td>\n",
       "    </tr>\n",
       "  </tbody>\n",
       "</table>\n",
       "</div>"
      ],
      "text/plain": [
       "   U.S.  Analytics      HR  Sales   Consulting    IT   Marketing\n",
       "0  2019       60248  38258   42831       44951  52595      37172\n",
       "1  2020       60450  27917   57307       47618  40532      47807\n",
       "2  2021       27556  46353   62251       32065  26254      45267\n",
       "3  2022       27217  40270   51181       54078  37063      36649"
      ]
     },
     "execution_count": 8,
     "metadata": {},
     "output_type": "execute_result"
    }
   ],
   "source": [
    "df3"
   ]
  },
  {
   "cell_type": "code",
   "execution_count": 9,
   "id": "d19ea388-2718-4450-b221-6a99db29a64b",
   "metadata": {},
   "outputs": [],
   "source": [
    "df4= pd.read_excel(r\"C:\\Users\\EJ312WS\\Downloads\\2_Normal (2).mat\\UK.xlsx\")"
   ]
  },
  {
   "cell_type": "code",
   "execution_count": 10,
   "id": "f2bdd68a-82ce-4d2d-b8ec-fa2071c1de6e",
   "metadata": {},
   "outputs": [
    {
     "data": {
      "text/html": [
       "<div>\n",
       "<style scoped>\n",
       "    .dataframe tbody tr th:only-of-type {\n",
       "        vertical-align: middle;\n",
       "    }\n",
       "\n",
       "    .dataframe tbody tr th {\n",
       "        vertical-align: top;\n",
       "    }\n",
       "\n",
       "    .dataframe thead th {\n",
       "        text-align: right;\n",
       "    }\n",
       "</style>\n",
       "<table border=\"1\" class=\"dataframe\">\n",
       "  <thead>\n",
       "    <tr style=\"text-align: right;\">\n",
       "      <th></th>\n",
       "      <th>U.K.</th>\n",
       "      <th>Sales</th>\n",
       "      <th>Consulting</th>\n",
       "      <th>IT</th>\n",
       "      <th>Marketing</th>\n",
       "      <th>Analytics</th>\n",
       "      <th>HR</th>\n",
       "    </tr>\n",
       "  </thead>\n",
       "  <tbody>\n",
       "    <tr>\n",
       "      <th>0</th>\n",
       "      <td>2019</td>\n",
       "      <td>55013</td>\n",
       "      <td>56435</td>\n",
       "      <td>48127</td>\n",
       "      <td>33731</td>\n",
       "      <td>49505</td>\n",
       "      <td>48155</td>\n",
       "    </tr>\n",
       "    <tr>\n",
       "      <th>1</th>\n",
       "      <td>2020</td>\n",
       "      <td>26433</td>\n",
       "      <td>32054</td>\n",
       "      <td>53783</td>\n",
       "      <td>20278</td>\n",
       "      <td>27153</td>\n",
       "      <td>39610</td>\n",
       "    </tr>\n",
       "    <tr>\n",
       "      <th>2</th>\n",
       "      <td>2021</td>\n",
       "      <td>46486</td>\n",
       "      <td>53026</td>\n",
       "      <td>36475</td>\n",
       "      <td>28475</td>\n",
       "      <td>44470</td>\n",
       "      <td>52824</td>\n",
       "    </tr>\n",
       "    <tr>\n",
       "      <th>3</th>\n",
       "      <td>2022</td>\n",
       "      <td>59865</td>\n",
       "      <td>20948</td>\n",
       "      <td>58664</td>\n",
       "      <td>54991</td>\n",
       "      <td>33679</td>\n",
       "      <td>33446</td>\n",
       "    </tr>\n",
       "  </tbody>\n",
       "</table>\n",
       "</div>"
      ],
      "text/plain": [
       "   U.K.  Sales   Consulting    IT   Marketing  Analytics      HR\n",
       "0  2019   55013       56435  48127      33731       49505  48155\n",
       "1  2020   26433       32054  53783      20278       27153  39610\n",
       "2  2021   46486       53026  36475      28475       44470  52824\n",
       "3  2022   59865       20948  58664      54991       33679  33446"
      ]
     },
     "execution_count": 10,
     "metadata": {},
     "output_type": "execute_result"
    }
   ],
   "source": [
    "df4"
   ]
  },
  {
   "cell_type": "code",
   "execution_count": 11,
   "id": "95efc470-ec34-4b3e-85a0-b7af8f90028e",
   "metadata": {},
   "outputs": [],
   "source": [
    "max_salary_2020_ind = df1[df1['India'] == 2020]['Analytics '].max()\n",
    "max_salary_2020_aus = df2[df2['Australia'] == 2020]['Analytics '].max()\n",
    "max_salary_2020_us = df3[df3['U.S.'] == 2020]['Analytics '].max()\n",
    "max_salary_2020_uk = df4[df4['U.K.'] == 2020]['Analytics '].max()\n"
   ]
  },
  {
   "cell_type": "code",
   "execution_count": 12,
   "id": "5ee3ec03-86c0-418a-a228-e31667182ac7",
   "metadata": {},
   "outputs": [
    {
     "data": {
      "text/plain": [
       "(54163, 49718, 60450, 27153)"
      ]
     },
     "execution_count": 12,
     "metadata": {},
     "output_type": "execute_result"
    }
   ],
   "source": [
    "max_salary_2020_ind, max_salary_2020_aus, max_salary_2020_us, max_salary_2020_uk"
   ]
  },
  {
   "cell_type": "markdown",
   "id": "d83fe24b-1aae-4bfe-9200-ba3580f7f1a3",
   "metadata": {},
   "source": [
    "# 1.1. Maximum salary in 2020 for analytics section"
   ]
  },
  {
   "cell_type": "code",
   "execution_count": 49,
   "id": "fc64fa7b-6c3a-4479-a001-e45f8a8fe333",
   "metadata": {},
   "outputs": [
    {
     "name": "stdout",
     "output_type": "stream",
     "text": [
      "60450\n"
     ]
    }
   ],
   "source": [
    "import numpy as np\n",
    "\n",
    "max_salary_2020 = np.amax([max_salary_2020_ind, max_salary_2020_aus, max_salary_2020_us, max_salary_2020_uk])\n",
    "print(max_salary_2020)"
   ]
  },
  {
   "cell_type": "markdown",
   "id": "f9ebc929-9bb5-4a79-a2ac-95e5e0bcd580",
   "metadata": {},
   "source": [
    "# 1.2. Avg salary in 2020 for analytics section"
   ]
  },
  {
   "cell_type": "code",
   "execution_count": 51,
   "id": "83c84f55-5e78-4186-b635-204b449fb3fb",
   "metadata": {},
   "outputs": [],
   "source": [
    "average_salary_ind = df1['Analytics '].mean()\n",
    "average_salary_aus = df2['Analytics '].mean()\n",
    "average_salary_us = df3['Analytics '].mean()\n",
    "average_salary_uk = df4['Analytics '].mean()"
   ]
  },
  {
   "cell_type": "code",
   "execution_count": 53,
   "id": "cea4c730-0c0b-430b-b1c8-262983c022bf",
   "metadata": {},
   "outputs": [
    {
     "data": {
      "text/plain": [
       "(55079.5, 49342.0, 43867.75, 38701.75)"
      ]
     },
     "execution_count": 53,
     "metadata": {},
     "output_type": "execute_result"
    }
   ],
   "source": [
    "average_salary_ind, average_salary_aus, average_salary_us, average_salary_uk "
   ]
  },
  {
   "cell_type": "code",
   "execution_count": 54,
   "id": "5fee9e65-1049-44e5-b9a9-1f1cbae125e2",
   "metadata": {},
   "outputs": [],
   "source": [
    "avg_salary = np.mean([average_salary_ind, average_salary_aus, average_salary_us, average_salary_uk])"
   ]
  },
  {
   "cell_type": "code",
   "execution_count": 55,
   "id": "ce49aaf8-dd39-4f55-bacf-8c53c4c75ae1",
   "metadata": {},
   "outputs": [
    {
     "data": {
      "text/plain": [
       "46747.75"
      ]
     },
     "execution_count": 55,
     "metadata": {},
     "output_type": "execute_result"
    }
   ],
   "source": [
    "avg_salary"
   ]
  },
  {
   "cell_type": "markdown",
   "id": "e151feb7-20d9-40ca-b489-982724dc245c",
   "metadata": {},
   "source": [
    "# 1.3. Difference between max salary and avg salary for analytics section"
   ]
  },
  {
   "cell_type": "code",
   "execution_count": 56,
   "id": "dc4fb546-3512-4d71-b3c0-d1347651bcc2",
   "metadata": {},
   "outputs": [],
   "source": [
    "difference = max_salary_2020 - avg_salary"
   ]
  },
  {
   "cell_type": "code",
   "execution_count": 57,
   "id": "5ab666dd-e5c7-468f-bdc5-3da2ae443360",
   "metadata": {},
   "outputs": [
    {
     "data": {
      "text/plain": [
       "13702.25"
      ]
     },
     "execution_count": 57,
     "metadata": {},
     "output_type": "execute_result"
    }
   ],
   "source": [
    "difference"
   ]
  },
  {
   "cell_type": "markdown",
   "id": "d7d3db40-662a-481d-bd18-0005189e9e99",
   "metadata": {},
   "source": [
    "# 2.1 Maximum salary in 2020 for marketing section"
   ]
  },
  {
   "cell_type": "code",
   "execution_count": 59,
   "id": "e93d231e-450c-4055-a280-8dff46719155",
   "metadata": {},
   "outputs": [],
   "source": [
    "max_salary_2020_ind = df1[df1['India'] == 2020]['Marketing'].max()\n",
    "max_salary_2020_aus = df2[df2['Australia'] == 2020]['Marketing'].max()\n",
    "max_salary_2020_us = df3[df3['U.S.'] == 2020]['Marketing'].max()\n",
    "max_salary_2020_uk = df4[df4['U.K.'] == 2020]['Marketing'].max()"
   ]
  },
  {
   "cell_type": "code",
   "execution_count": 60,
   "id": "0a8cfdc9-a14d-418e-9012-aed7097d1c7c",
   "metadata": {},
   "outputs": [
    {
     "data": {
      "text/plain": [
       "(20622, 42581, 47807, 20278)"
      ]
     },
     "execution_count": 60,
     "metadata": {},
     "output_type": "execute_result"
    }
   ],
   "source": [
    "max_salary_2020_ind, max_salary_2020_aus, max_salary_2020_us, max_salary_2020_uk"
   ]
  },
  {
   "cell_type": "code",
   "execution_count": 61,
   "id": "5e66fff7-9a2c-4717-ba1f-f029a191bd9f",
   "metadata": {},
   "outputs": [
    {
     "name": "stdout",
     "output_type": "stream",
     "text": [
      "47807\n"
     ]
    }
   ],
   "source": [
    "import numpy as np\n",
    "\n",
    "max_salary_2020 = np.amax([max_salary_2020_ind, max_salary_2020_aus, max_salary_2020_us, max_salary_2020_uk])\n",
    "print(max_salary_2020)"
   ]
  },
  {
   "cell_type": "markdown",
   "id": "f3bab082-a698-4d52-9c81-8675f063dad0",
   "metadata": {},
   "source": [
    "# 2.2 Avg salary in 2020 for marketing section"
   ]
  },
  {
   "cell_type": "code",
   "execution_count": 62,
   "id": "db7a5e80-f067-4106-86d4-19d0872ba11a",
   "metadata": {},
   "outputs": [],
   "source": [
    "average_salary_ind = df1['Marketing'].mean()\n",
    "average_salary_aus = df2['Marketing'].mean()\n",
    "average_salary_us = df3['Marketing'].mean()\n",
    "average_salary_uk = df4['Marketing'].mean()"
   ]
  },
  {
   "cell_type": "code",
   "execution_count": 63,
   "id": "38ed1827-c29c-40a1-ad03-3e9d50b7ad92",
   "metadata": {},
   "outputs": [
    {
     "data": {
      "text/plain": [
       "(36152.0, 43556.25, 41723.75, 34368.75)"
      ]
     },
     "execution_count": 63,
     "metadata": {},
     "output_type": "execute_result"
    }
   ],
   "source": [
    "average_salary_ind, average_salary_aus, average_salary_us, average_salary_uk "
   ]
  },
  {
   "cell_type": "code",
   "execution_count": 64,
   "id": "b17aacee-ce27-410a-b7a1-16a52cff0283",
   "metadata": {},
   "outputs": [],
   "source": [
    "avg_salary = np.mean([average_salary_ind, average_salary_aus, average_salary_us, average_salary_uk])"
   ]
  },
  {
   "cell_type": "code",
   "execution_count": 65,
   "id": "3c82bda4-2d7f-4ba4-96ee-3a2038910f21",
   "metadata": {},
   "outputs": [
    {
     "data": {
      "text/plain": [
       "38950.1875"
      ]
     },
     "execution_count": 65,
     "metadata": {},
     "output_type": "execute_result"
    }
   ],
   "source": [
    "avg_salary"
   ]
  },
  {
   "cell_type": "markdown",
   "id": "51649be8-754f-499e-b25c-d7b3b0efd4bf",
   "metadata": {},
   "source": [
    "# 2.3 Difference between max salary and avg salary for marketing section"
   ]
  },
  {
   "cell_type": "code",
   "execution_count": 66,
   "id": "65f4af9c-e451-4ff8-8be0-edf6f54e93b4",
   "metadata": {},
   "outputs": [
    {
     "name": "stdout",
     "output_type": "stream",
     "text": [
      "8856.8125\n"
     ]
    }
   ],
   "source": [
    "difference = max_salary_2020 - avg_salary\n",
    "print(difference)"
   ]
  },
  {
   "cell_type": "markdown",
   "id": "b6dc0a23-ff58-4888-8f1d-c5b4799754b7",
   "metadata": {},
   "source": [
    "# 3.1 Maximum salary in 2019 for Sales section"
   ]
  },
  {
   "cell_type": "code",
   "execution_count": 15,
   "id": "b3150bf5-d7cf-4ec8-bd91-d1d4cd597b05",
   "metadata": {},
   "outputs": [],
   "source": [
    "max_salary_2019_ind = df1[df1['India'] == 2019]['Sales '].max()\n",
    "max_salary_2019_aus = df2[df2['Australia'] == 2019]['Sales '].max()\n",
    "max_salary_2019_us = df3[df3['U.S.'] == 2019]['Sales '].max()\n",
    "max_salary_2019_uk = df4[df4['U.K.'] == 2019]['Sales '].max()"
   ]
  },
  {
   "cell_type": "code",
   "execution_count": 16,
   "id": "1ec2cd6e-278f-4bbf-a3b5-cccd03616bc8",
   "metadata": {},
   "outputs": [
    {
     "data": {
      "text/plain": [
       "(42521, 50531, 42831, 55013)"
      ]
     },
     "execution_count": 16,
     "metadata": {},
     "output_type": "execute_result"
    }
   ],
   "source": [
    "max_salary_2019_ind, max_salary_2019_aus, max_salary_2019_us, max_salary_2019_uk"
   ]
  },
  {
   "cell_type": "code",
   "execution_count": 17,
   "id": "72b73db3-1b4d-43e2-bddc-90dd4fbe4e31",
   "metadata": {},
   "outputs": [
    {
     "name": "stdout",
     "output_type": "stream",
     "text": [
      "55013\n"
     ]
    }
   ],
   "source": [
    "import numpy as np\n",
    "\n",
    "max_salary_2019 = np.amax([max_salary_2019_ind, max_salary_2019_aus, max_salary_2019_us, max_salary_2019_uk])\n",
    "print(max_salary_2019)"
   ]
  },
  {
   "cell_type": "markdown",
   "id": "3dec6104-a892-4f77-8942-23f7c3ed7325",
   "metadata": {},
   "source": [
    "# 3.2 Avg salary in 2020 for Sales section"
   ]
  },
  {
   "cell_type": "code",
   "execution_count": 73,
   "id": "d3ce6614-d870-4165-931b-dc9c198bac5e",
   "metadata": {},
   "outputs": [],
   "source": [
    "average_salary_ind = df1['Sales '].mean()\n",
    "average_salary_aus = df2['Sales '].mean()\n",
    "average_salary_us = df3['Sales '].mean()\n",
    "average_salary_uk = df4['Sales '].mean()"
   ]
  },
  {
   "cell_type": "code",
   "execution_count": 74,
   "id": "90bfc1ac-0281-4074-9488-0201739bf3c4",
   "metadata": {},
   "outputs": [
    {
     "data": {
      "text/plain": [
       "(52378.75, 47300.75, 53392.5, 46949.25)"
      ]
     },
     "execution_count": 74,
     "metadata": {},
     "output_type": "execute_result"
    }
   ],
   "source": [
    "average_salary_ind, average_salary_aus, average_salary_us, average_salary_uk "
   ]
  },
  {
   "cell_type": "code",
   "execution_count": 76,
   "id": "4b589567-1f61-455c-bdf5-9bc1a7d513c5",
   "metadata": {},
   "outputs": [
    {
     "data": {
      "text/plain": [
       "50005.3125"
      ]
     },
     "execution_count": 76,
     "metadata": {},
     "output_type": "execute_result"
    }
   ],
   "source": [
    "avg_salary = np.mean([average_salary_ind, average_salary_aus, average_salary_us, average_salary_uk])\n",
    "avg_salary "
   ]
  },
  {
   "cell_type": "markdown",
   "id": "ffd548ef-e7e2-4ce2-8c5c-692a5d58ae7b",
   "metadata": {},
   "source": [
    "# 3.3 Difference between max salary and avg salary for sales section"
   ]
  },
  {
   "cell_type": "code",
   "execution_count": 77,
   "id": "95374d59-6e19-49c5-9e6c-0e61df59956c",
   "metadata": {},
   "outputs": [
    {
     "name": "stdout",
     "output_type": "stream",
     "text": [
      "7301.6875\n"
     ]
    }
   ],
   "source": [
    "difference = max_salary_2020 - avg_salary\n",
    "print(difference)"
   ]
  },
  {
   "cell_type": "code",
   "execution_count": null,
   "id": "009c3c78-3c32-4b84-be88-8c191688a535",
   "metadata": {},
   "outputs": [],
   "source": []
  }
 ],
 "metadata": {
  "kernelspec": {
   "display_name": "Python 3 (ipykernel)",
   "language": "python",
   "name": "python3"
  },
  "language_info": {
   "codemirror_mode": {
    "name": "ipython",
    "version": 3
   },
   "file_extension": ".py",
   "mimetype": "text/x-python",
   "name": "python",
   "nbconvert_exporter": "python",
   "pygments_lexer": "ipython3",
   "version": "3.11.7"
  }
 },
 "nbformat": 4,
 "nbformat_minor": 5
}
